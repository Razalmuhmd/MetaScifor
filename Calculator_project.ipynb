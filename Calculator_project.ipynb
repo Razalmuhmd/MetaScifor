{
  "nbformat": 4,
  "nbformat_minor": 0,
  "metadata": {
    "colab": {
      "provenance": []
    },
    "kernelspec": {
      "name": "python3",
      "display_name": "Python 3"
    },
    "language_info": {
      "name": "python"
    }
  },
  "cells": [
    {
      "cell_type": "code",
      "execution_count": null,
      "metadata": {
        "colab": {
          "base_uri": "https://localhost:8080/"
        },
        "id": "Hm5lpT1-uMdz",
        "outputId": "26ac39bd-1c74-414c-bc83-9bd414f9fa19"
      },
      "outputs": [
        {
          "name": "stdout",
          "output_type": "stream",
          "text": [
            "Enter operation (+,-,*,/): +\n",
            "Enter first operand: 10\n",
            "Enter second operand: 10\n",
            "Starting calculation..\n",
            "Calculation finished.\n",
            "Result: 20.0\n",
            "Do you want to perform another calculation?(yes/no):no\n"
          ]
        }
      ],
      "source": [
        "def calculator(func):\n",
        "  def wrapper(*args):\n",
        "    print(\"Starting calculation..\")\n",
        "    result=func(*args)\n",
        "    print(\"Calculation finished.\")\n",
        "    return result\n",
        "  return wrapper\n",
        "\n",
        "@calculator\n",
        "def perform_operation(operation,operand1,operat2):\n",
        "  if operation==\"+\":\n",
        "    return operand1 + operand2\n",
        "  elif operation==\"-\":\n",
        "    return operand1-operand2\n",
        "  elif operation==\"*\":\n",
        "    return operand1*operand2\n",
        "  elif operation==\"/\":\n",
        "    if operand2 !=0:\n",
        "      return operand1/operand2\n",
        "  else:\n",
        "    return \"Error:Division by zero\"\n",
        "\n",
        "def calculator_generator():\n",
        "  while True:\n",
        "    operation = input(\"Enter operation (+,-,*,/): \")\n",
        "    if operation not in [\"+\",\"-\",\"*\",\"/\"]:\n",
        "      print(\"Invalid operation.please try again.\")\n",
        "      continue\n",
        "\n",
        "    operand1=float(input(\"Enter first operand: \"))\n",
        "    operand2=float(input(\"Enter second operand: \"))\n",
        "\n",
        "    yield operation,operand1,operand2\n",
        "\n",
        "calc_gen = calculator_generator()\n",
        "\n",
        "while True:\n",
        "  operation,operand1,operand2=next(calc_gen)\n",
        "  result=perform_operation(operation,operand1,operand2)\n",
        "  print(\"Result:\",result)\n",
        "  again=input(\"Do you want to perform another calculation?(yes/no):\")\n",
        "  if again.lower()!=\"yes\":\n",
        "    break"
      ]
    },
    {
      "cell_type": "code",
      "source": [
        "#2nd\n",
        "\n",
        "numbers = [1,2,3,4]\n",
        "sqaured_numbers=[x**2for x in numbers]\n",
        "print(\"Squared numbers using list comprehension\",sqaured_numbers)\n",
        "\n",
        "def square(x):\n",
        "  return x**2\n",
        "\n",
        "squared_numbers_map = list(map(square,numbers))\n",
        "print(\"Squared numbers using map:\",squared_numbers_map)\n",
        "\n",
        "def is_even(x):\n",
        "  return x % 2==0\n",
        "\n",
        "even_numbers=list(filter(is_even,numbers))\n",
        "print(\"Even numbers using filter:\",even_numbers)\n",
        "\n",
        "def outer_function(x):\n",
        "  def inner_function(y):\n",
        "    return x+y\n",
        "  return inner_function\n",
        "\n",
        "add_five = outer_function(5)\n",
        "result = add_five(3)\n",
        "print(\"Result of closure function:\",result)\n",
        "\n"
      ],
      "metadata": {
        "colab": {
          "base_uri": "https://localhost:8080/"
        },
        "id": "fNTtZIVd0Epi",
        "outputId": "e4d26a40-0e81-49ac-b91d-d67edd6b09ae"
      },
      "execution_count": null,
      "outputs": [
        {
          "output_type": "stream",
          "name": "stdout",
          "text": [
            "Squared numbers using list comprehension [1, 4, 9, 16]\n",
            "Squared numbers using map: [1, 4, 9, 16]\n",
            "Even numbers using filter: [2, 4]\n",
            "Result of closure function: 8\n"
          ]
        }
      ]
    }
  ]
}