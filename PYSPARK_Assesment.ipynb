{
  "nbformat": 4,
  "nbformat_minor": 0,
  "metadata": {
    "colab": {
      "provenance": []
    },
    "kernelspec": {
      "name": "python3",
      "display_name": "Python 3"
    },
    "language_info": {
      "name": "python"
    }
  },
  "cells": [
    {
      "cell_type": "code",
      "execution_count": 1,
      "metadata": {
        "colab": {
          "base_uri": "https://localhost:8080/"
        },
        "id": "qli4uGhI_DC7",
        "outputId": "41017ab0-6486-4bfa-8812-6bab8d2bd13b"
      },
      "outputs": [
        {
          "output_type": "stream",
          "name": "stdout",
          "text": [
            "Collecting pyspark\n",
            "  Downloading pyspark-3.5.1.tar.gz (317.0 MB)\n",
            "\u001b[2K     \u001b[90m━━━━━━━━━━━━━━━━━━━━━━━━━━━━━━━━━━━━━━━━\u001b[0m \u001b[32m317.0/317.0 MB\u001b[0m \u001b[31m2.6 MB/s\u001b[0m eta \u001b[36m0:00:00\u001b[0m\n",
            "\u001b[?25h  Preparing metadata (setup.py) ... \u001b[?25l\u001b[?25hdone\n",
            "Requirement already satisfied: py4j==0.10.9.7 in /usr/local/lib/python3.10/dist-packages (from pyspark) (0.10.9.7)\n",
            "Building wheels for collected packages: pyspark\n",
            "  Building wheel for pyspark (setup.py) ... \u001b[?25l\u001b[?25hdone\n",
            "  Created wheel for pyspark: filename=pyspark-3.5.1-py2.py3-none-any.whl size=317488491 sha256=f9769f5b45a8c43a14525069c68144f23165ab83655210e2f0846c4e1bfcbd68\n",
            "  Stored in directory: /root/.cache/pip/wheels/80/1d/60/2c256ed38dddce2fdd93be545214a63e02fbd8d74fb0b7f3a6\n",
            "Successfully built pyspark\n",
            "Installing collected packages: pyspark\n",
            "Successfully installed pyspark-3.5.1\n"
          ]
        }
      ],
      "source": [
        "pip install pyspark\n"
      ]
    },
    {
      "cell_type": "code",
      "source": [
        "from pyspark.sql import SparkSession\n",
        "\n",
        "spark = SparkSession.builder.appName(\"GoalsAnalysis\").getOrCreate()\n"
      ],
      "metadata": {
        "id": "JBQ1p_2wA9nE"
      },
      "execution_count": 2,
      "outputs": []
    },
    {
      "cell_type": "code",
      "source": [
        "file_path = '/content/goals.csv'\n",
        "\n",
        "df = spark.read.csv(file_path, header=True, inferSchema=True)\n"
      ],
      "metadata": {
        "id": "sEk7YoYsBMCb"
      },
      "execution_count": 3,
      "outputs": []
    },
    {
      "cell_type": "code",
      "source": [
        "df.printSchema()\n"
      ],
      "metadata": {
        "colab": {
          "base_uri": "https://localhost:8080/"
        },
        "id": "ZPaSvahpBTs8",
        "outputId": "426ea909-3d33-4353-84dc-f4182e7af100"
      },
      "execution_count": 4,
      "outputs": [
        {
          "output_type": "stream",
          "name": "stdout",
          "text": [
            "root\n",
            " |-- serial: integer (nullable = true)\n",
            " |-- player_name: string (nullable = true)\n",
            " |-- club: string (nullable = true)\n",
            " |-- position: string (nullable = true)\n",
            " |-- goals: integer (nullable = true)\n",
            " |-- right_foot: integer (nullable = true)\n",
            " |-- left_foot: integer (nullable = true)\n",
            " |-- headers: integer (nullable = true)\n",
            " |-- others: integer (nullable = true)\n",
            " |-- inside_area: integer (nullable = true)\n",
            " |-- outside_areas: integer (nullable = true)\n",
            " |-- penalties: integer (nullable = true)\n",
            " |-- match_played: integer (nullable = true)\n",
            "\n"
          ]
        }
      ]
    },
    {
      "cell_type": "code",
      "source": [
        "df.show()\n"
      ],
      "metadata": {
        "colab": {
          "base_uri": "https://localhost:8080/"
        },
        "id": "q81S5R44BaIq",
        "outputId": "9fed8239-6b88-4b9a-922b-9c61ca863541"
      },
      "execution_count": 5,
      "outputs": [
        {
          "output_type": "stream",
          "name": "stdout",
          "text": [
            "+------+---------------+-----------+----------+-----+----------+---------+-------+------+-----------+-------------+---------+------------+\n",
            "|serial|    player_name|       club|  position|goals|right_foot|left_foot|headers|others|inside_area|outside_areas|penalties|match_played|\n",
            "+------+---------------+-----------+----------+-----+----------+---------+-------+------+-----------+-------------+---------+------------+\n",
            "|     1|        Benzema|Real Madrid|   Forward|   15|        11|        1|      3|     0|         13|            2|        3|          12|\n",
            "|     2|    Lewandowski|     Bayern|   Forward|   13|         8|        3|      1|     1|         13|            0|        3|          10|\n",
            "|     3|         Haller|       Ajax|   Forward|   11|         3|        4|      3|     1|         11|            0|        1|           8|\n",
            "|     4|          Salah|  Liverpool|   Forward|    8|         0|        8|      0|     0|          7|            1|        1|          13|\n",
            "|     5|         Nkunku|    Leipzig|Midfielder|    7|         3|        1|      3|     0|          7|            0|        0|           6|\n",
            "|     5|         Mahrez|  Man. City|Midfielder|    7|         1|        4|      2|     0|          7|            0|        2|          12|\n",
            "|     7|         Mbappé|      Paris|   Forward|    6|         6|        0|      0|     0|          6|            0|        0|           8|\n",
            "|     7|          Núñez|    Benfica|   Forward|    6|         5|        0|      1|     0|          6|            0|        1|          10|\n",
            "|     7|        Ronaldo|Man. United|   Forward|    6|         5|        0|      1|     0|          4|            2|        0|           7|\n",
            "|     7|        Danjuma| Villarreal|Midfielder|    6|         3|        3|      0|     0|          6|            0|        1|          11|\n",
            "|     7|           Sané|     Bayern|Midfielder|    6|         1|        5|      0|     0|          3|            3|        0|          10|\n",
            "|    12|        Firmino|  Liverpool|Midfielder|    5|         3|        1|      1|     0|          4|            1|        0|           6|\n",
            "|    12|           Mané|  Liverpool|Midfielder|    5|         2|        3|      0|     0|          5|            0|        0|          13|\n",
            "|    12|        Rodrygo|Real Madrid|   Forward|    5|         2|        2|      1|     0|          5|            0|        0|          10|\n",
            "|    12|          Messi|      Paris|   Forward|    5|         0|        5|      0|     0|          3|            2|        2|           7|\n",
            "|    16|          Jesus|  Man. City|   Forward|    4|         4|        0|      0|     0|          4|            0|        0|           8|\n",
            "|    16|         Werner|    Chelsea|   Forward|    4|         4|        0|      0|     0|          4|            0|        0|           5|\n",
            "|    16|Pedro Gonçalves|Sporting CP|Midfielder|    4|         4|        0|      0|     0|          3|            1|        1|           5|\n",
            "|    16|Vinícius Júnior|Real Madrid|   Forward|    4|         3|        1|      0|     0|          4|            0|        0|          13|\n",
            "|    16|      Luis Díaz|  Liverpool|   Forward|    4|         2|        1|      1|     0|          4|            0|        0|          13|\n",
            "+------+---------------+-----------+----------+-----+----------+---------+-------+------+-----------+-------------+---------+------------+\n",
            "only showing top 20 rows\n",
            "\n"
          ]
        }
      ]
    },
    {
      "cell_type": "code",
      "source": [
        "df.describe().show()\n"
      ],
      "metadata": {
        "colab": {
          "base_uri": "https://localhost:8080/"
        },
        "id": "4DfUWiAABiAJ",
        "outputId": "95f597fa-5d3a-47b9-d78c-0d73c9e31f33"
      },
      "execution_count": 6,
      "outputs": [
        {
          "output_type": "stream",
          "name": "stdout",
          "text": [
            "+-------+-----------------+-----------+-----+----------+------------------+------------------+------------------+-------------------+-------------------+------------------+-------------------+-------------------+-----------------+\n",
            "|summary|           serial|player_name| club|  position|             goals|        right_foot|         left_foot|            headers|             others|       inside_area|      outside_areas|          penalties|     match_played|\n",
            "+-------+-----------------+-----------+-----+----------+------------------+------------------+------------------+-------------------+-------------------+------------------+-------------------+-------------------+-----------------+\n",
            "|  count|              183|        183|  183|       183|               183|               183|               183|                183|                183|               183|                183|                183|              183|\n",
            "|   mean|55.01639344262295|       NULL| NULL|      NULL| 2.021857923497268|0.9726775956284153|0.6939890710382514|0.32786885245901637|0.02185792349726776| 1.814207650273224|0.20765027322404372|0.19672131147540983|6.841530054644808|\n",
            "| stddev|24.17392915224039|       NULL| NULL|      NULL|2.0053672052905935|1.4002813453137721|1.1408098819229646| 0.6127216748554656|0.14662069449775875|1.9239426382628382| 0.5141369040829835| 0.5493154220436323| 2.56819555628082|\n",
            "|    min|                1|      Adamu| Ajax|  Defender|                 1|                 0|                 0|                  0|                  0|                 0|                  0|                  0|                1|\n",
            "|    max|               73|   Škriniar|Zenit|Midfielder|                15|                11|                 8|                  3|                  1|                13|                  3|                  3|               13|\n",
            "+-------+-----------------+-----------+-----+----------+------------------+------------------+------------------+-------------------+-------------------+------------------+-------------------+-------------------+-----------------+\n",
            "\n"
          ]
        }
      ]
    },
    {
      "cell_type": "code",
      "source": [
        "from pyspark.sql.functions import col, sum\n",
        "\n",
        "df.select([sum(col(c).isNull().cast(\"int\")).alias(c) for c in df.columns]).show()\n"
      ],
      "metadata": {
        "colab": {
          "base_uri": "https://localhost:8080/"
        },
        "id": "vixZyoRaBp3u",
        "outputId": "e7f04c10-34ea-4fa6-9a87-a3f23f3bb3ed"
      },
      "execution_count": 7,
      "outputs": [
        {
          "output_type": "stream",
          "name": "stdout",
          "text": [
            "+------+-----------+----+--------+-----+----------+---------+-------+------+-----------+-------------+---------+------------+\n",
            "|serial|player_name|club|position|goals|right_foot|left_foot|headers|others|inside_area|outside_areas|penalties|match_played|\n",
            "+------+-----------+----+--------+-----+----------+---------+-------+------+-----------+-------------+---------+------------+\n",
            "|     0|          0|   0|       0|    0|         0|        0|      0|     0|          0|            0|        0|           0|\n",
            "+------+-----------+----+--------+-----+----------+---------+-------+------+-----------+-------------+---------+------------+\n",
            "\n"
          ]
        }
      ]
    }
  ]
}